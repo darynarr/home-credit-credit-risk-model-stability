{
 "cells": [
  {
   "cell_type": "code",
   "execution_count": 1,
   "metadata": {},
   "outputs": [
    {
     "name": "stdout",
     "output_type": "stream",
     "text": [
      "Looking in links: file:///kaggle/input/scikit-learn-1-4-0/\n",
      "Requirement already satisfied: scikit-learn in /home/daryna/miniconda3/envs/home-credit/lib/python3.10/site-packages (1.4.0)\n",
      "\u001b[33mWARNING: Location 'file:///kaggle/input/scikit-learn-1-4-0/' is ignored: it is neither a file nor a directory.\u001b[0m\u001b[33m\n",
      "\u001b[0mRequirement already satisfied: numpy<2.0,>=1.19.5 in /home/daryna/miniconda3/envs/home-credit/lib/python3.10/site-packages (from scikit-learn) (1.26.4)\n",
      "Requirement already satisfied: scipy>=1.6.0 in /home/daryna/miniconda3/envs/home-credit/lib/python3.10/site-packages (from scikit-learn) (1.12.0)\n",
      "Requirement already satisfied: joblib>=1.2.0 in /home/daryna/miniconda3/envs/home-credit/lib/python3.10/site-packages (from scikit-learn) (1.3.2)\n",
      "Requirement already satisfied: threadpoolctl>=2.0.0 in /home/daryna/miniconda3/envs/home-credit/lib/python3.10/site-packages (from scikit-learn) (3.2.0)\n"
     ]
    }
   ],
   "source": [
    "!pip install --upgrade scikit-learn --no-index --find-links=file:///kaggle/input/scikit-learn-1-4-0/ "
   ]
  },
  {
   "cell_type": "code",
   "execution_count": 2,
   "metadata": {
    "_cell_guid": "b1076dfc-b9ad-4769-8c92-a6c4dae69d19",
    "_uuid": "8f2839f25d086af736a60e9eeb907d3b93b6e0e5"
   },
   "outputs": [],
   "source": [
    "import os, glob, shutil\n",
    "import gc\n",
    "import pickle\n",
    "import pandas as pd\n",
    "import numpy as np\n",
    "import matplotlib.pyplot as plt\n",
    "import seaborn as sns\n",
    "from copy import deepcopy\n",
    "from pathlib import Path\n",
    "from typing import Literal, List\n",
    "from tqdm.auto import tqdm\n",
    "import polars as pl\n",
    "import polars.selectors as cs\n",
    "\n",
    "from sklearn.model_selection import train_test_split, cross_validate, StratifiedGroupKFold, KFold\n",
    "from sklearn.metrics import roc_auc_score, roc_curve, auc\n",
    "from sklearn.ensemble import VotingClassifier\n",
    "from mlxtend.evaluate import GroupTimeSeriesSplit\n",
    "\n",
    "import lightgbm as lgb\n",
    "\n",
    "import joblib"
   ]
  },
  {
   "cell_type": "code",
   "execution_count": 3,
   "metadata": {},
   "outputs": [],
   "source": [
    "TRAIN = True\n",
    "VALIDATE = True"
   ]
  },
  {
   "cell_type": "code",
   "execution_count": 4,
   "metadata": {},
   "outputs": [],
   "source": [
    "if os.path.exists('/kaggle'):\n",
    "    PATH_DATASET = Path(\"/kaggle/input/home-credit-credit-risk-model-stability\")\n",
    "    if TRAIN:\n",
    "        MODELS_PATH = Path(\"/kaggle/working/models\")\n",
    "    else:\n",
    "        MODELS_PATH = Path(\"/kaggle/input/home_credit/scikitlearn/home_credit/17\")\n",
    "else:\n",
    "    PATH_DATASET = Path(\"home-credit-credit-risk-model-stability\")\n",
    "    MODELS_PATH = Path(\"models\")\n",
    "    if os.path.exists(MODELS_PATH):\n",
    "        shutil.rmtree(MODELS_PATH)\n",
    "    os.makedirs(MODELS_PATH)\n",
    "    \n",
    "PATH_PARQUETS = PATH_DATASET / \"parquet_files\"\n",
    "PATH_TRAIN = PATH_PARQUETS / \"train\"\n",
    "PATH_TEST = PATH_PARQUETS / \"test\"\n",
    "\n",
    "pd.set_option('display.max_columns', 1000)\n",
    "pd.set_option('display.max_rows', 1000)"
   ]
  },
  {
   "cell_type": "markdown",
   "metadata": {},
   "source": [
    "# Load data"
   ]
  },
  {
   "cell_type": "code",
   "execution_count": 5,
   "metadata": {},
   "outputs": [],
   "source": [
    "def reduce_mem_usage(df):\n",
    "    \"\"\" iterate through all the columns of a dataframe and modify the data type\n",
    "        to reduce memory usage.        \n",
    "    \"\"\"\n",
    "    start_mem = df.memory_usage().sum() / 1024**2\n",
    "    print('Memory usage of dataframe is {:.2f} MB'.format(start_mem))\n",
    "    \n",
    "    for col in df.columns:\n",
    "        col_type = df[col].dtype\n",
    "        if str(col_type)==\"category\":\n",
    "            continue\n",
    "        \n",
    "        if col_type != object:\n",
    "            c_min = df[col].min()\n",
    "            c_max = df[col].max()\n",
    "            if str(col_type)[:3] == 'int':\n",
    "                if c_min > np.iinfo(np.int8).min and c_max < np.iinfo(np.int8).max:\n",
    "                    df[col] = df[col].astype(np.int8)\n",
    "                elif c_min > np.iinfo(np.int16).min and c_max < np.iinfo(np.int16).max:\n",
    "                    df[col] = df[col].astype(np.int16)\n",
    "                elif c_min > np.iinfo(np.int32).min and c_max < np.iinfo(np.int32).max:\n",
    "                    df[col] = df[col].astype(np.int32)\n",
    "                elif c_min > np.iinfo(np.int64).min and c_max < np.iinfo(np.int64).max:\n",
    "                    df[col] = df[col].astype(np.int64)  \n",
    "            elif str(col_type)[:5] == 'float':\n",
    "                if c_min > np.finfo(np.float16).min and c_max < np.finfo(np.float16).max:\n",
    "                    df[col] = df[col].astype(np.float16)\n",
    "                elif c_min > np.finfo(np.float32).min and c_max < np.finfo(np.float32).max:\n",
    "                    df[col] = df[col].astype(np.float32)\n",
    "                else:\n",
    "                    df[col] = df[col].astype(np.float64)\n",
    "        # else:\n",
    "        #     df[col] = df[col].astype('category')\n",
    "    end_mem = df.memory_usage().sum() / 1024**2\n",
    "    print('Memory usage after optimization is: {:.2f} MB'.format(end_mem))\n",
    "    print('Decreased by {:.1f}%'.format(100 * (start_mem - end_mem) / start_mem))\n",
    "    \n",
    "    return df"
   ]
  },
  {
   "cell_type": "code",
   "execution_count": 6,
   "metadata": {},
   "outputs": [],
   "source": [
    "class DatasetConstructor:\n",
    "    def __init__(self, subsciption: list):\n",
    "        self.subsciption = subsciption\n",
    "        self.schemes = {}\n",
    "        self.drop_cols = []\n",
    "                        \n",
    "    def _to_pandas(self, df):\n",
    "        df = df.to_pandas().set_index('case_id')\n",
    "        df = df.replace([np.inf, -np.inf, None], np.nan)\n",
    "        return df\n",
    "        \n",
    "    def _aggregate(self, df, name):\n",
    "        index_cols = [col for col in ['num_group1', 'num_group2'] if col in df.columns]\n",
    "        aggs = [\n",
    "            pl.len().alias(f'{name.replace(\"*\", \"\")}_len'),\n",
    "            pl.col(pl.NUMERIC_DTYPES).min().name.suffix('_min'),\n",
    "            pl.col(pl.NUMERIC_DTYPES).mean().name.suffix('_mean'),\n",
    "            pl.col(pl.NUMERIC_DTYPES).max().name.suffix('_max'),\n",
    "            pl.col(pl.NUMERIC_DTYPES).std().name.suffix('_std'),\n",
    "            pl.col(pl.NUMERIC_DTYPES).first().name.suffix('_last'),\n",
    "\n",
    "            pl.col(pl.Categorical).mode().max().name.suffix('_mode'),\n",
    "            pl.col(pl.Categorical).n_unique().name.suffix('_nunique'),\n",
    "            pl.col(pl.Categorical).first().name.suffix('_last'),\n",
    "            \n",
    "            pl.col(pl.Date).max(),\n",
    "        ]\n",
    "\n",
    "        df = (\n",
    "            df\n",
    "            .sort(['case_id'] + index_cols)\n",
    "            .drop(index_cols)\n",
    "            .group_by('case_id').agg(*aggs)\n",
    "        )\n",
    "\n",
    "        return df\n",
    "\n",
    "    def join(self, path, df_base):\n",
    "        name = path.stem.split('_', 1)[1]\n",
    "        print(name)\n",
    "        df = pl.concat(\n",
    "             [\n",
    "                 pl.scan_parquet(p, low_memory=True) \n",
    "                 for p in glob.glob(str(path))\n",
    "             ], how=\"vertical_relaxed\"\n",
    "        )\n",
    "        \n",
    "        if name not in self.schemes:\n",
    "            df = df.with_columns(\n",
    "                cs.ends_with('D').cast(pl.String).str.to_date(strict=False),\n",
    "                cs.ends_with('M').cast(pl.String).cast(pl.Categorical),\n",
    "                pl.col('case_id').cast(pl.Int64),\n",
    "            )\n",
    "            \n",
    "            df = df.with_columns(\n",
    "                cs.by_dtype(pl.String).cast(pl.Categorical),\n",
    "                cs.by_dtype(pl.Boolean).cast(pl.UInt8)\n",
    "            )\n",
    "            self.schemes[name] = df.schema\n",
    "        else:\n",
    "            df = df.with_columns(pl.col(c).cast(dtype) for c, dtype in self.schemes[name].items())\n",
    "            \n",
    "        # Aggregate depth 1 and 2 data\n",
    "        if '0' not in name:\n",
    "            df = self._aggregate(df, name)\n",
    "\n",
    "        # True if case_id is in dataframe\n",
    "        df = df.with_columns(\n",
    "            pl.col('case_id').is_not_null().alias(f'is_in_{name.replace(\"*\", \"\")}').cast(pl.Int8)\n",
    "        )\n",
    "        \n",
    "        return df_base.join(df, how=\"left\", on=\"case_id\")\n",
    "\n",
    "    def get_drop_list(self, df):\n",
    "        drop_cols = []\n",
    "        for col in df.columns:\n",
    "            if df[col].is_null().mean() > 0.98:\n",
    "                drop_cols.append(col)\n",
    "        \n",
    "        for col in df.select(cs.by_dtype(pl.Categorical)).columns:\n",
    "            if df[col].n_unique() > 200:\n",
    "                drop_cols.append(col)\n",
    "        return drop_cols\n",
    "    \n",
    "    def load(self, mode: Literal['train', 'test']):\n",
    "        path = PATH_PARQUETS / mode\n",
    "        df = pl.scan_parquet(path / f\"{mode}_base.parquet\", low_memory=True).with_columns(\n",
    "            pl.col(\"date_decision\").str.to_date()\n",
    "        )\n",
    "        for stem in self.subsciption:\n",
    "            df = self.join(path / f\"{mode}_{stem}.parquet\", df)\n",
    "\n",
    "        # NaN for is_in_{file} column means that it was not there\n",
    "        df = df.with_columns(\n",
    "            cs.starts_with('is_in_').fill_null(0)\n",
    "        )\n",
    "            \n",
    "        df = df.with_columns(\n",
    "            (pl.col(col) - pl.col('date_decision')).dt.total_days()\n",
    "            for col in df.columns if col.endswith('D')\n",
    "        )\n",
    "\n",
    "        df = df.with_columns(\n",
    "            pl.col(pl.Float64).cast(pl.Float32),\n",
    "            pl.col(pl.Int64).cast(pl.Int32),\n",
    "        )\n",
    "        \n",
    "        df = df.collect()\n",
    "\n",
    "        if mode == 'train':\n",
    "            self.drop_cols = self.get_drop_list(df)\n",
    "            \n",
    "        df = df.drop(self.drop_cols)\n",
    "            \n",
    "        df = self._to_pandas(df)\n",
    "        df = reduce_mem_usage(df)\n",
    "            \n",
    "        return df"
   ]
  },
  {
   "cell_type": "code",
   "execution_count": 7,
   "metadata": {},
   "outputs": [],
   "source": [
    "info_cols = ['date_decision', 'WEEK_NUM', 'MONTH']\n",
    "\n",
    "def generate_features(mode: Literal['train', 'test'], constructors: List[DatasetConstructor]):\n",
    "    dfs = []\n",
    "    for i, constructor in enumerate(constructors):\n",
    "        df = constructor.load(mode)\n",
    "        if i > 0:\n",
    "            df = df.drop(columns=info_cols)\n",
    "            if mode == 'train':\n",
    "                df = df.drop(columns='target')\n",
    "        dfs.append(df)\n",
    "    return pd.concat(dfs, axis=1)"
   ]
  },
  {
   "cell_type": "code",
   "execution_count": 8,
   "metadata": {},
   "outputs": [
    {
     "name": "stdout",
     "output_type": "stream",
     "text": [
      "static_0_*\n",
      "static_cb_0\n",
      "Memory usage of dataframe is 1303.08 MB\n",
      "Memory usage after optimization is: 703.23 MB\n",
      "Decreased by 46.0%\n",
      "applprev_1_*\n",
      "other_1\n",
      "tax_registry_a_1\n",
      "tax_registry_b_1\n",
      "Memory usage of dataframe is 1190.96 MB\n",
      "Memory usage after optimization is: 765.83 MB\n",
      "Decreased by 35.7%\n",
      "CPU times: user 1min 57s, sys: 36.3 s, total: 2min 33s\n",
      "Wall time: 15.6 s\n"
     ]
    }
   ],
   "source": [
    "%%time\n",
    "subscriptions = [\n",
    "    [\n",
    "        'static_0_*', \n",
    "        'static_cb_0',\n",
    "    ],\n",
    "    [                \n",
    "        'applprev_1_*',\n",
    "        'other_1',\n",
    "        'tax_registry_a_1',\n",
    "        'tax_registry_b_1',\n",
    "        # 'tax_registry_c_1',\n",
    "        \n",
    "        # 'credit_bureau_b_1',\n",
    "        # 'deposit_1',\n",
    "        # 'person_1',\n",
    "        # 'debitcard_1',\n",
    "    ],\n",
    "    # ['credit_bureau_a_1_*',],\n",
    "    # [\n",
    "    #     'applprev_2',\n",
    "    #     'person_2',\n",
    "    #     'credit_bureau_b_2',\n",
    "    # ],\n",
    "    # ['credit_bureau_a_2_*',]\n",
    "]\n",
    "constructors = [DatasetConstructor(subs) for subs in subscriptions]\n",
    "df_train = generate_features('train', constructors)"
   ]
  },
  {
   "cell_type": "code",
   "execution_count": 9,
   "metadata": {},
   "outputs": [
    {
     "data": {
      "text/plain": [
       "(1526659, 387)"
      ]
     },
     "execution_count": 9,
     "metadata": {},
     "output_type": "execute_result"
    }
   ],
   "source": [
    "df_train = df_train.reset_index().sort_values(['WEEK_NUM', 'case_id']).set_index('case_id')\n",
    "X, y = df_train.drop(columns=info_cols + ['target']), df_train['target']\n",
    "\n",
    "features = X.columns.tolist()\n",
    "\n",
    "X.shape"
   ]
  },
  {
   "cell_type": "markdown",
   "metadata": {},
   "source": [
    "# Train model"
   ]
  },
  {
   "cell_type": "code",
   "execution_count": 10,
   "metadata": {},
   "outputs": [],
   "source": [
    "def gini_stability(base, w_fallingrate=88.0, w_resstd=-0.5, verbose=False):\n",
    "    gini_in_time = base.loc[:, [\"WEEK_NUM\", \"target\", \"score\"]]\\\n",
    "        .sort_values(\"WEEK_NUM\")\\\n",
    "        .groupby(\"WEEK_NUM\")[[\"target\", \"score\"]]\\\n",
    "        .apply(lambda x: 2*roc_auc_score(x[\"target\"], x[\"score\"])-1).tolist()\n",
    "    \n",
    "    x = np.arange(len(gini_in_time))\n",
    "    y = gini_in_time\n",
    "    \n",
    "\n",
    "    a, b = np.polyfit(x, y, 1)\n",
    "    y_hat = a*x + b\n",
    "    residuals = y - y_hat\n",
    "    res_std = np.std(residuals)\n",
    "    avg_gini = np.mean(gini_in_time)\n",
    "    if verbose:\n",
    "        print(f'{avg_gini=:.3f} {a=:.3f} {res_std=:.3f}')\n",
    "        plt.plot(np.arange(len(gini_in_time)), gini_in_time)\n",
    "        plt.title('Gini by week')\n",
    "        plt.show()\n",
    "        plt.close()\n",
    "    \n",
    "    return avg_gini + w_fallingrate * min(0, a) + w_resstd * res_std"
   ]
  },
  {
   "cell_type": "code",
   "execution_count": 11,
   "metadata": {},
   "outputs": [],
   "source": [
    "params = {\n",
    "    \"boosting_type\": \"gbdt\",\n",
    "    \"objective\": \"binary\",\n",
    "    \"metric\": \"auc\",\n",
    "    \"max_depth\": 4,\n",
    "    \"num_leaves\": 16,\n",
    "    \"min_data_in_leaf\": 20,\n",
    "    \"learning_rate\": 0.03,\n",
    "    \"feature_fraction\": 0.2,\n",
    "    \"bagging_fraction\": 0.8,\n",
    "    \"bagging_freq\": 5,\n",
    "    \"n_estimators\": 600,\n",
    "    'min_data_in_bin': 5,\n",
    "    'max_bin': 32,\n",
    "    \"verbose\": -1,\n",
    "    'n_jobs': -1\n",
    "}"
   ]
  },
  {
   "cell_type": "code",
   "execution_count": 12,
   "metadata": {},
   "outputs": [
    {
     "data": {
      "text/plain": [
       "min   2019-01-01\n",
       "max   2020-10-05\n",
       "Name: date_decision, dtype: datetime64[ns]"
      ]
     },
     "execution_count": 12,
     "metadata": {},
     "output_type": "execute_result"
    }
   ],
   "source": [
    "df_train['date_decision'].agg(['min', 'max'])"
   ]
  },
  {
   "cell_type": "code",
   "execution_count": 13,
   "metadata": {},
   "outputs": [
    {
     "data": {
      "text/plain": [
       "92"
      ]
     },
     "execution_count": 13,
     "metadata": {},
     "output_type": "execute_result"
    }
   ],
   "source": [
    "df_train['WEEK_NUM'].nunique()"
   ]
  },
  {
   "cell_type": "code",
   "execution_count": 14,
   "metadata": {},
   "outputs": [
    {
     "name": "stdout",
     "output_type": "stream",
     "text": [
      "[ 0  1  2  3  4  5  6  7  8  9 10 11 12 13 14 15 16 17 18 19 20 21 22] [23 24 25 26 27 28 29 30 31 32 33 34 35 36 37 38 39 40 41 42 43 44 45]\n",
      "[23 24 25 26 27 28 29 30 31 32 33 34 35 36 37 38 39 40 41 42 43 44 45] [46 47 48 49 50 51 52 53 54 55 56 57 58 59 60 61 62 63 64 65 66 67 68]\n",
      "[46 47 48 49 50 51 52 53 54 55 56 57 58 59 60 61 62 63 64 65 66 67 68] [69 70 71 72 73 74 75 76 77 78 79 80 81 82 83 84 85 86 87 88 89 90 91]\n"
     ]
    }
   ],
   "source": [
    "fold_size = int(df_train['WEEK_NUM'].nunique() / 4)\n",
    "cv = GroupTimeSeriesSplit(test_size=fold_size, train_size=fold_size, shift_size=fold_size)\n",
    "# cv = StratifiedGroupKFold(5, shuffle=False)\n",
    "for train_idx, val_idx in cv.split(X, y, df_train['WEEK_NUM']):\n",
    "    print(df_train['WEEK_NUM'].iloc[train_idx].unique(), df_train['WEEK_NUM'].iloc[val_idx].unique())"
   ]
  },
  {
   "cell_type": "code",
   "execution_count": 15,
   "metadata": {},
   "outputs": [],
   "source": [
    "class ForwardFeatureSelector:\n",
    "    def __init__(self):\n",
    "        pass\n",
    "\n",
    "    def fit(self, X, y, groups):\n",
    "        selected_features = pd.Series()\n",
    "        try:\n",
    "            while True:\n",
    "                if len(selected_features) == len(X.columns):\n",
    "                    break\n",
    "                current_scores = pd.Series()\n",
    "                for feature in tqdm(X.columns):\n",
    "                    if feature in selected_features.index:\n",
    "                        continue\n",
    "                    X_subset = X[selected_features.index.tolist() + [feature]]\n",
    "                    cv_results = cross_validate(\n",
    "                        lgb.LGBMClassifier(**params, random_state=42), \n",
    "                        X_subset, y, \n",
    "                        groups=groups, \n",
    "                        scoring='roc_auc', \n",
    "                        cv=cv,\n",
    "                        verbose=0, \n",
    "                        return_estimator=True, \n",
    "                        return_indices=True\n",
    "                    )\n",
    "                    \n",
    "                    stability_results = []\n",
    "                    for fold, (idx, model) in enumerate(zip(cv_results['indices']['test'], cv_results['estimator'])):\n",
    "                        df_res = pd.DataFrame()\n",
    "                        \n",
    "                        df_res['WEEK_NUM'] = groups.iloc[idx].values\n",
    "                        df_res['target'] = y.iloc[idx].values\n",
    "                        df_res['score'] = model.predict_proba(X_subset.iloc[idx])[:, 1]\n",
    "                        df_res['fold'] = fold\n",
    "                        stability_results.append(df_res)\n",
    "                    df_stability_results = pd.concat(stability_results)\n",
    "    \n",
    "                    current_scores[feature] = df_stability_results.groupby('fold').apply(gini_stability, include_groups=False).mean()\n",
    "                if current_scores.max() <= selected_features.max():\n",
    "                    break\n",
    "                selected_features[current_scores.index[current_scores.argmax()]] = current_scores.values[current_scores.argmax()]\n",
    "                print(current_scores.index[selected_features.argmax()], current_scores.max())\n",
    "        except KeyboardInterrupt:\n",
    "            return selected_features\n",
    "        return selected_features"
   ]
  },
  {
   "cell_type": "code",
   "execution_count": 16,
   "metadata": {
    "scrolled": true
   },
   "outputs": [],
   "source": [
    "# selector = ForwardFeatureSelector()\n",
    "# selected_features = selector.fit(X, y, df_train['WEEK_NUM'])\n",
    "# selected_features.to_csv('selected_features.csv')\n",
    "# selected_features"
   ]
  },
  {
   "cell_type": "code",
   "execution_count": 17,
   "metadata": {},
   "outputs": [],
   "source": [
    "# selected_features = pd.read_csv('selected_features.csv', index_col=0).squeeze()\n",
    "# features = selected_features.index.tolist()\n",
    "# features"
   ]
  },
  {
   "cell_type": "code",
   "execution_count": 18,
   "metadata": {},
   "outputs": [],
   "source": [
    "# X = X[features]"
   ]
  },
  {
   "cell_type": "code",
   "execution_count": 19,
   "metadata": {},
   "outputs": [
    {
     "name": "stdout",
     "output_type": "stream",
     "text": [
      "[CV] END ......................................., score=0.802 total time=   9.7s\n",
      "[CV] END ......................................., score=0.808 total time=  12.8s\n",
      "[CV] END ......................................., score=0.824 total time=  10.7s\n",
      "AUC: 0.811 +-0.009\n"
     ]
    },
    {
     "data": {
      "text/plain": [
       "fold\n",
       "0    0.361242\n",
       "1    0.467134\n",
       "2    0.615264\n",
       "dtype: float64"
      ]
     },
     "metadata": {},
     "output_type": "display_data"
    },
    {
     "name": "stdout",
     "output_type": "stream",
     "text": [
      "Mean Gini stability: 0.4812\n"
     ]
    },
    {
     "data": {
      "image/png": "[encoded data removed]",
      "text/plain": [
       "<Figure size 640x480 with 1 Axes>"
      ]
     },
     "metadata": {},
     "output_type": "display_data"
    },
    {
     "name": "stdout",
     "output_type": "stream",
     "text": [
      "CPU times: user 14min 48s, sys: 2.33 s, total: 14min 50s\n",
      "Wall time: 37.4 s\n"
     ]
    }
   ],
   "source": [
    "%%time\n",
    "\n",
    "if VALIDATE:\n",
    "    cv_results = cross_validate(\n",
    "        lgb.LGBMClassifier(**params, random_state=42), \n",
    "        X, y, \n",
    "        groups=df_train['WEEK_NUM'], \n",
    "        scoring='roc_auc', \n",
    "        cv=cv,\n",
    "        verbose=3, \n",
    "        return_estimator=True, \n",
    "        return_indices=True\n",
    "    )\n",
    "    print(f\"AUC: {cv_results['test_score'].mean():.3f}\", f\"+-{cv_results['test_score'].std():.3f}\")\n",
    "    \n",
    "    stability_results = []\n",
    "    for fold, (idx, model) in enumerate(zip(cv_results['indices']['test'], cv_results['estimator'])):\n",
    "        df_res = pd.DataFrame()\n",
    "        \n",
    "        df_res['WEEK_NUM'] = df_train['WEEK_NUM'].iloc[idx].values\n",
    "        df_res['target'] = df_train['target'].iloc[idx].values\n",
    "        df_res['score'] = model.predict_proba(X.iloc[idx])[:, 1]\n",
    "        df_res['fold'] = fold\n",
    "        stability_results.append(df_res)\n",
    "\n",
    "    df_stability_results = pd.concat(stability_results)\n",
    "    \n",
    "    display(df_stability_results.groupby('fold').apply(gini_stability, include_groups=False))\n",
    "    print('Mean Gini stability:', f\"{df_stability_results.groupby('fold').apply(gini_stability, include_groups=False).mean():.4f}\")\n",
    "    \n",
    "    fpr, tpr, _ = roc_curve(df_stability_results['target'], df_stability_results['score'])\n",
    "    \n",
    "    plt.plot(\n",
    "        fpr, tpr, label='ROC curve (area = %.2f)' % auc(fpr, tpr)\n",
    "    )\n",
    "    plt.plot([0, 1], [0, 1], linestyle='--', lw=2, color='r', label='Random guess')\n",
    "    plt.title('ROC curve')\n",
    "    plt.xlabel('False Positive Rate')\n",
    "    plt.ylabel('True Positive Rate')\n",
    "    plt.grid()\n",
    "    plt.legend()\n",
    "    plt.show()"
   ]
  },
  {
   "cell_type": "markdown",
   "metadata": {},
   "source": [
    "#### static_0_*\n",
    "avg_gini=0.576 a=0.001 res_std=0.035\n",
    "\n",
    "Gini stability: 0.5590\n",
    "\n",
    "#### static_cb_0\n",
    "avg_gini=0.612 a=0.001 res_std=0.040\n",
    "\n",
    "Gini stability: 0.5921\n",
    "\n",
    "#### applprev_1_*\n",
    "avg_gini=0.624 a=0.001 res_std=0.041\n",
    "\n",
    "Gini stability: 0.6036\n",
    "\n",
    "#### other_1\n",
    "avg_gini=0.625 a=0.001 res_std=0.041\n",
    "\n",
    "Gini stability: 0.6039\n",
    "\n",
    "#### tax_registry_a_1\n",
    "avg_gini=0.626 a=0.001 res_std=0.041\n",
    "\n",
    "Gini stability: 0.6057\n",
    "\n",
    "#### tax_registry_b_1\n",
    "avg_gini=0.620 a=0.000 res_std=0.039\n",
    "\n",
    "Gini stability: 0.6010\n",
    "\n",
    "#### tax_registry_c_1\n",
    "avg_gini=0.621 a=0.000 res_std=0.040\n",
    "\n",
    "Gini stability: 0.6006\n",
    "\n",
    "#### credit_bureau_a_1_*\n",
    "avg_gini=0.676 a=0.001 res_std=0.037\n",
    "\n",
    "Gini stability: 0.6575\n",
    "\n",
    "#### credit_bureau_b_1\n",
    "avg_gini=0.675 a=0.000 res_std=0.038\n",
    "\n",
    "Gini stability: 0.6564\n",
    "\n",
    "#### deposit_1\n",
    "avg_gini=0.676 a=0.001 res_std=0.035\n",
    "\n",
    "Gini stability: 0.6579\n",
    "\n",
    "#### person_1\n",
    "avg_gini=0.684 a=0.000 res_std=0.035\n",
    "\n",
    "Gini stability: 0.6667\n",
    "\n",
    "#### debitcard_1\n",
    "avg_gini=0.685 a=0.001 res_std=0.035\n",
    "\n",
    "Gini stability: 0.6674\n",
    "\n",
    "#### applprev_2\n",
    "avg_gini=0.684 a=0.001 res_std=0.036\n",
    "\n",
    "Gini stability: 0.6661\n",
    "\n",
    "#### person_2\n",
    "avg_gini=0.685 a=0.001 res_std=0.035\n",
    "\n",
    "Gini stability: 0.6672\n",
    "\n",
    "#### credit_bureau_a_2_*\n",
    "avg_gini=0.685 a=0.001 res_std=0.036\n",
    "\n",
    "Gini stability: 0.6669\n",
    "\n",
    "#### credit_bureau_b_2\n",
    "avg_gini=0.685 a=0.001 res_std=0.034\n",
    "\n",
    "Gini stability: 0.6677"
   ]
  },
  {
   "cell_type": "code",
   "execution_count": 20,
   "metadata": {},
   "outputs": [],
   "source": [
    "# # Save model\n",
    "# if TRAIN:\n",
    "#     for i, model in enumerate(cv_results['estimator']):\n",
    "#         with open(MODELS_PATH / f'model_{i}.joblib', 'wb') as f:\n",
    "#             joblib.dump(model, f)\n",
    "#     shutil.make_archive('models', 'zip', MODELS_PATH)"
   ]
  },
  {
   "cell_type": "code",
   "execution_count": 21,
   "metadata": {},
   "outputs": [
    {
     "name": "stdout",
     "output_type": "stream",
     "text": [
      "[Voting] .................... (1 of 5) Processing lgb_0, total=  32.4s\n",
      "[Voting] .................... (2 of 5) Processing lgb_1, total=  32.6s\n",
      "[Voting] .................... (3 of 5) Processing lgb_2, total=  33.1s\n",
      "[Voting] .................... (4 of 5) Processing lgb_3, total=  32.0s\n",
      "[Voting] .................... (5 of 5) Processing lgb_4, total=  32.9s\n",
      "CPU times: user 1h 18min 3s, sys: 6.27 s, total: 1h 18min 9s\n",
      "Wall time: 2min 43s\n"
     ]
    }
   ],
   "source": [
    "%%time\n",
    "if TRAIN:\n",
    "    model = VotingClassifier(\n",
    "        estimators = [(f'lgb_{i}', lgb.LGBMClassifier(**params, random_state=i)) for i in range(5)],\n",
    "        voting='soft',\n",
    "        verbose=3\n",
    "    )\n",
    "    model.fit(X, y)\n",
    "    with open(MODELS_PATH / f'model.joblib', 'wb') as f:\n",
    "        joblib.dump(model, f)"
   ]
  },
  {
   "cell_type": "code",
   "execution_count": 22,
   "metadata": {},
   "outputs": [
    {
     "data": {
      "text/plain": [
       "3782"
      ]
     },
     "execution_count": 22,
     "metadata": {},
     "output_type": "execute_result"
    }
   ],
   "source": [
    "del df_train, X, y\n",
    "gc.collect()"
   ]
  },
  {
   "cell_type": "markdown",
   "metadata": {},
   "source": [
    "# Loading models"
   ]
  },
  {
   "cell_type": "code",
   "execution_count": 23,
   "metadata": {},
   "outputs": [],
   "source": [
    "# Read models\n",
    "models = []\n",
    "for model_name in os.listdir(MODELS_PATH):\n",
    "    with open(MODELS_PATH / model_name, 'rb') as f:\n",
    "        models.append(joblib.load(f))"
   ]
  },
  {
   "cell_type": "markdown",
   "metadata": {},
   "source": [
    "# Loading test data"
   ]
  },
  {
   "cell_type": "code",
   "execution_count": 24,
   "metadata": {},
   "outputs": [
    {
     "name": "stdout",
     "output_type": "stream",
     "text": [
      "static_0_*\n",
      "static_cb_0\n",
      "Memory usage of dataframe is 0.01 MB\n",
      "Memory usage after optimization is: 0.01 MB\n",
      "Decreased by -11.2%\n",
      "applprev_1_*\n",
      "other_1\n",
      "tax_registry_a_1\n",
      "tax_registry_b_1\n",
      "Memory usage of dataframe is 0.01 MB\n",
      "Memory usage after optimization is: 0.01 MB\n",
      "Decreased by -1.1%\n"
     ]
    }
   ],
   "source": [
    "df_test = generate_features('test', constructors)"
   ]
  },
  {
   "cell_type": "markdown",
   "metadata": {},
   "source": [
    "# Predict and submit"
   ]
  },
  {
   "cell_type": "code",
   "execution_count": 25,
   "metadata": {},
   "outputs": [],
   "source": [
    "test = df_test[features]"
   ]
  },
  {
   "cell_type": "code",
   "execution_count": 26,
   "metadata": {},
   "outputs": [],
   "source": [
    "preds_proba = [model.predict_proba(test)[:, 1] for model in models]\n",
    "df_test[\"score\"] = np.average(preds_proba, axis=0)"
   ]
  },
  {
   "cell_type": "code",
   "execution_count": 27,
   "metadata": {},
   "outputs": [
    {
     "name": "stdout",
     "output_type": "stream",
     "text": [
      "case_id,score\n",
      "57543,0.08584944624701855\n",
      "57549,0.06899882028648033\n",
      "57551,0.03936078871014083\n",
      "57552,0.01638209656196733\n",
      "57569,0.007883316394050346\n",
      "57630,0.015809200200224742\n",
      "57631,0.014075430860929578\n",
      "57632,0.009993359501846861\n",
      "57633,0.04304990709415689\n"
     ]
    }
   ],
   "source": [
    "df_test[[\"score\"]].to_csv(\"submission.csv\")\n",
    "\n",
    "!head submission.csv"
   ]
  },
  {
   "cell_type": "code",
   "execution_count": null,
   "metadata": {},
   "outputs": [],
   "source": []
  }
 ],
 "metadata": {
  "kaggle": {
   "accelerator": "none",
   "dataSources": [
    {
     "databundleVersionId": 7602123,
     "sourceId": 50160,
     "sourceType": "competition"
    },
    {
     "sourceId": 161936385,
     "sourceType": "kernelVersion"
    },
    {
     "isSourceIdPinned": true,
     "modelInstanceId": 7821,
     "sourceId": 10065,
     "sourceType": "modelInstanceVersion"
    }
   ],
   "dockerImageVersionId": 30648,
   "isGpuEnabled": false,
   "isInternetEnabled": false,
   "language": "python",
   "sourceType": "notebook"
  },
  "kernelspec": {
   "display_name": "Python [conda env:home-credit]",
   "language": "python",
   "name": "conda-env-home-credit-py"
  },
  "language_info": {
   "codemirror_mode": {
    "name": "ipython",
    "version": 3
   },
   "file_extension": ".py",
   "mimetype": "text/x-python",
   "name": "python",
   "nbconvert_exporter": "python",
   "pygments_lexer": "ipython3",
   "version": "3.10.13"
  }
 },
 "nbformat": 4,
 "nbformat_minor": 4
}
